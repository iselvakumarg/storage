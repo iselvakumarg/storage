{
  "nbformat": 4,
  "nbformat_minor": 0,
  "metadata": {
    "colab": {
      "provenance": [],
      "authorship_tag": "ABX9TyN511bcNKVCOmoHxaEaxy34",
      "include_colab_link": true
    },
    "kernelspec": {
      "name": "python3",
      "display_name": "Python 3"
    },
    "language_info": {
      "name": "python"
    }
  },
  "cells": [
    {
      "cell_type": "markdown",
      "metadata": {
        "id": "view-in-github",
        "colab_type": "text"
      },
      "source": [
        "<a href=\"https://colab.research.google.com/github/GSelvakumar/storage/blob/main/Learning.ipynb\" target=\"_parent\"><img src=\"https://colab.research.google.com/assets/colab-badge.svg\" alt=\"Open In Colab\"/></a>"
      ]
    },
    {
      "cell_type": "markdown",
      "source": [
        "### Ternary Operator in Python"
      ],
      "metadata": {
        "id": "WxDUcyHtQ0oh"
      }
    },
    {
      "cell_type": "code",
      "execution_count": null,
      "metadata": {
        "colab": {
          "base_uri": "https://localhost:8080/"
        },
        "id": "UKGNxgsRP0UA",
        "outputId": "7fc2673d-b087-472a-8bd3-6453ef08b685"
      },
      "outputs": [
        {
          "output_type": "stream",
          "name": "stdout",
          "text": [
            "Even\n"
          ]
        }
      ],
      "source": [
        "n = 10\n",
        "print(\"Even\" if n % 2 == 0 else \"Odd\")"
      ]
    },
    {
      "cell_type": "code",
      "source": [
        "\"even\" if 10 % 2 == 0 else \"odd\""
      ],
      "metadata": {
        "colab": {
          "base_uri": "https://localhost:8080/",
          "height": 35
        },
        "id": "De6buwW7Quli",
        "outputId": "bc1b5ee7-64b9-484f-e8a2-aa95fde4da2d"
      },
      "execution_count": null,
      "outputs": [
        {
          "output_type": "execute_result",
          "data": {
            "text/plain": [
              "'even'"
            ],
            "application/vnd.google.colaboratory.intrinsic+json": {
              "type": "string"
            }
          },
          "metadata": {},
          "execution_count": 2
        }
      ]
    },
    {
      "cell_type": "markdown",
      "source": [
        "### Binary Search"
      ],
      "metadata": {
        "id": "ZHdsWFVXdVqH"
      }
    },
    {
      "cell_type": "code",
      "source": [
        "def binarySearch(arr, x, low, high):\n",
        "  while high >= low:\n",
        "    mid = low + (high - low) // 2\n",
        "    if arr[mid] == x:\n",
        "      return x\n",
        "    elif arr[mid] < x:\n",
        "      low = mid + 1\n",
        "    else:\n",
        "      high = mid - 1\n",
        "  return -1\n",
        "\n",
        "arr = [1, 2, 3, 4, 5, 6, 7, 8, 9]\n",
        "result = binarySearch(arr, 3, 0, len(arr)-1)\n",
        "f\"Element present at index {result}\" if result != -1 else \"Not found\""
      ],
      "metadata": {
        "colab": {
          "base_uri": "https://localhost:8080/",
          "height": 35
        },
        "id": "rC-Z8juHdYqG",
        "outputId": "d9d2bbb3-97ce-4df8-afd7-012057303ce2"
      },
      "execution_count": null,
      "outputs": [
        {
          "output_type": "execute_result",
          "data": {
            "text/plain": [
              "'Element present at index 3'"
            ],
            "application/vnd.google.colaboratory.intrinsic+json": {
              "type": "string"
            }
          },
          "metadata": {},
          "execution_count": 16
        }
      ]
    },
    {
      "cell_type": "code",
      "source": [
        "def binarySearchRec(arr, x, low, high):\n",
        "  while high >= low:\n",
        "    mid = low + (high - low) // 2\n",
        "    if arr[mid] == x:\n",
        "      return x\n",
        "    elif arr[mid] > x:\n",
        "      return binarySearchRec(arr, x, low, mid - 1)\n",
        "    else:\n",
        "      return binarySearchRec(arr, x, mid + 1, high)\n",
        "\n",
        "arr = [1, 2, 3, 4, 5, 6, 7, 8, 9]\n",
        "result = binarySearchRec(arr, 3, 0, len(arr)-1)\n",
        "f\"Element present at index {result}\" if result != -1 else \"Not found\""
      ],
      "metadata": {
        "colab": {
          "base_uri": "https://localhost:8080/",
          "height": 35
        },
        "id": "wJgle7uBoSV2",
        "outputId": "e40d6004-b67d-401f-e5ab-9a08ade8f928"
      },
      "execution_count": null,
      "outputs": [
        {
          "output_type": "execute_result",
          "data": {
            "text/plain": [
              "'Element present at index 3'"
            ],
            "application/vnd.google.colaboratory.intrinsic+json": {
              "type": "string"
            }
          },
          "metadata": {},
          "execution_count": 18
        }
      ]
    },
    {
      "cell_type": "markdown",
      "source": [
        "### Quick Sort"
      ],
      "metadata": {
        "id": "CQ8xnFGiOAUY"
      }
    },
    {
      "cell_type": "code",
      "source": [
        "def partition(arr, low, high):\n",
        "  pivot = arr[high]\n",
        "  i = low - 1\n",
        "  for j in range(low, high):\n",
        "    if arr[j] <= pivot:\n",
        "      i = i + 1\n",
        "      arr[i], arr[j] = arr[j], arr[i] # swap high with low\n",
        "  arr[i+1], arr[high] = arr[high], arr[i+1] # swap pivot with high element\n",
        "  return i + 1\n",
        "\n",
        "def quickSort(arr, low, high):\n",
        "  if low < high:\n",
        "    part = partition(arr, low, high)\n",
        "    quickSort(arr, low, part-1) # left pivot\n",
        "    quickSort(arr, part+1, high) # right pivot\n",
        "\n",
        "arr = [64, 25, 12, 22, 11]\n",
        "n = len(arr)\n",
        "quickSort(arr, 0, n-1)\n",
        "print(arr)"
      ],
      "metadata": {
        "colab": {
          "base_uri": "https://localhost:8080/"
        },
        "id": "giNSCOUQOChS",
        "outputId": "5f9fb6bd-e8da-4dec-933a-1341b0fe79ee"
      },
      "execution_count": null,
      "outputs": [
        {
          "output_type": "stream",
          "name": "stdout",
          "text": [
            "[11, 12, 22, 25, 64]\n"
          ]
        }
      ]
    },
    {
      "cell_type": "markdown",
      "source": [
        "### Dictionaries in List Comprehension"
      ],
      "metadata": {
        "id": "SxrzN0H97nlX"
      }
    },
    {
      "cell_type": "code",
      "source": [
        "l1 = ['a', 'b', 'c']\n",
        "l2 = [1, 2, 3]\n",
        "res = [{l1[i]:l2[i] for i in range(len(l1))}]\n",
        "print(res)"
      ],
      "metadata": {
        "colab": {
          "base_uri": "https://localhost:8080/"
        },
        "id": "a9V1tHIUThL_",
        "outputId": "6ebd3f2a-f552-47a4-a0c1-d7dd80066472"
      },
      "execution_count": null,
      "outputs": [
        {
          "output_type": "stream",
          "name": "stdout",
          "text": [
            "[{'a': 1, 'b': 2, 'c': 3}]\n"
          ]
        }
      ]
    },
    {
      "cell_type": "code",
      "source": [
        "res1 = dict()\n",
        "for i in zip(l1, l2):\n",
        "  res1.update({i})\n",
        "print(res)"
      ],
      "metadata": {
        "colab": {
          "base_uri": "https://localhost:8080/"
        },
        "id": "wyMN3_PP8Nhk",
        "outputId": "fe6879ab-7590-44e0-ec60-5b45f562fae1"
      },
      "execution_count": null,
      "outputs": [
        {
          "output_type": "stream",
          "name": "stdout",
          "text": [
            "{'a': 1, 'b': 2, 'c': 3}\n"
          ]
        }
      ]
    },
    {
      "cell_type": "markdown",
      "source": [
        "## List Comprehension"
      ],
      "metadata": {
        "id": "P4LxzXoix0xl"
      }
    },
    {
      "cell_type": "code",
      "source": [
        "n = int(input())\n",
        "for i in range(n):\n",
        "    (a, b) = map(int, input().split())\n",
        "    if a < b:\n",
        "        print(\"<\")\n",
        "    elif a > b:\n",
        "        print(\">\")\n",
        "    else:\n",
        "        print(\"=\")"
      ],
      "metadata": {
        "colab": {
          "base_uri": "https://localhost:8080/"
        },
        "id": "JPkiZY_Ix5_8",
        "outputId": "8cea821b-05f8-4eb9-c4c9-7185286fd628"
      },
      "execution_count": 1,
      "outputs": [
        {
          "output_type": "stream",
          "name": "stdout",
          "text": [
            "3\n",
            "10 20\n",
            "<\n",
            "12 1\n",
            ">\n",
            "1 1\n",
            "=\n"
          ]
        }
      ]
    },
    {
      "cell_type": "markdown",
      "source": [
        "The above code using list comprehension"
      ],
      "metadata": {
        "id": "_OJRSN6IyGuH"
      }
    },
    {
      "cell_type": "code",
      "source": [
        "results = ['>' if a > b else '<' if a < b else '=' for a, b in [map(int, input().split()) for i in range(int(input()))]]\n",
        "print(*results, sep='\\n')\n",
        "\"\"\"\n",
        "This will return a iter object so it will be unpacked using a * before the variable.\n",
        "\"\"\""
      ],
      "metadata": {
        "colab": {
          "base_uri": "https://localhost:8080/",
          "height": 87
        },
        "id": "isPDA5f0yFmB",
        "outputId": "fb776051-d156-41c0-9074-5efaceb55983"
      },
      "execution_count": 3,
      "outputs": [
        {
          "output_type": "stream",
          "name": "stdout",
          "text": [
            "1\n",
            "1 1\n",
            "=\n"
          ]
        },
        {
          "output_type": "execute_result",
          "data": {
            "text/plain": [
              "'\\nThis will return a iter object so it will be unpacked using a * before the variable.\\n'"
            ],
            "application/vnd.google.colaboratory.intrinsic+json": {
              "type": "string"
            }
          },
          "metadata": {},
          "execution_count": 3
        }
      ]
    },
    {
      "cell_type": "markdown",
      "source": [
        "### File handling"
      ],
      "metadata": {
        "id": "4bpbVf6ePCrH"
      }
    },
    {
      "cell_type": "code",
      "source": [
        "from google.colab import drive\n",
        "drive.mount('/content/drive')"
      ],
      "metadata": {
        "colab": {
          "base_uri": "https://localhost:8080/"
        },
        "id": "Gt7zsmKVPKXu",
        "outputId": "97af297f-503e-41af-e3c8-6c323b7e17c2"
      },
      "execution_count": null,
      "outputs": [
        {
          "output_type": "stream",
          "name": "stdout",
          "text": [
            "Mounted at /content/drive\n"
          ]
        }
      ]
    },
    {
      "cell_type": "code",
      "source": [
        "count = 0\n",
        "maxCount = 0\n",
        "word = \"\"\n",
        "words = []\n",
        "\n",
        "file = open(\"/content/drive/MyDrive/VIT/Preps/data.rtf\", 'r')\n",
        "\n",
        "for line in file:\n",
        "  string = line.lower().replace(\",\", \"\").replace(\".\", \"\").split(\" \")\n",
        "\n",
        "for s in string:\n",
        "  words.append(s)\n",
        "\n",
        "for i in range(0, len(words)):\n",
        "  count = 1;\n",
        "  for j in range(i+1, len(words)):\n",
        "    if words[i] == words[j]:\n",
        "      count += 1\n",
        "\n",
        "  if count > maxCount:\n",
        "    maxCount = count\n",
        "    word = words[i]\n",
        "\n",
        "print(f\"The most occurence word is: {word}\")\n",
        "file.close()"
      ],
      "metadata": {
        "colab": {
          "base_uri": "https://localhost:8080/"
        },
        "id": "1JtH11YqPQtq",
        "outputId": "cd11b901-6ccc-49b1-dca3-b0109ee08b74"
      },
      "execution_count": null,
      "outputs": [
        {
          "output_type": "stream",
          "name": "stdout",
          "text": [
            "The most occurence word is: a\n"
          ]
        }
      ]
    },
    {
      "cell_type": "markdown",
      "source": [
        "### Email validation in Python RE"
      ],
      "metadata": {
        "id": "yhAG480W1tbV"
      }
    },
    {
      "cell_type": "code",
      "source": [
        "import re\n",
        "\n",
        "def solve(s):\n",
        "  id = \"^[a-zA-Z0-9-_]+@[a-zA-Z0-9]+\\.[a-z]{1-3}$\"\n",
        "  if re.match(id, s):\n",
        "    return True\n",
        "  return False\n",
        "\n",
        "s = \"selvakumarg@gmail.com\"\n",
        "print(solve(s))"
      ],
      "metadata": {
        "id": "uMgFPPWAUtSk",
        "colab": {
          "base_uri": "https://localhost:8080/"
        },
        "outputId": "91cb4263-2804-49d4-c60b-2a2ea891a2b8"
      },
      "execution_count": null,
      "outputs": [
        {
          "output_type": "stream",
          "name": "stdout",
          "text": [
            "False\n"
          ]
        }
      ]
    },
    {
      "cell_type": "code",
      "source": [
        "sum = 0\n",
        "result = 0\n",
        "for i in range(0, 5):\n",
        "  if i % 2 == 0:\n",
        "    sum = 2 + i\n",
        "    result = result + sum\n",
        "print(result)"
      ],
      "metadata": {
        "colab": {
          "base_uri": "https://localhost:8080/"
        },
        "id": "nUs7ZuYAtdGD",
        "outputId": "3f9d5ba7-1d9a-4235-ccbb-8c9e5e1c9423"
      },
      "execution_count": null,
      "outputs": [
        {
          "output_type": "stream",
          "name": "stdout",
          "text": [
            "12\n"
          ]
        }
      ]
    },
    {
      "cell_type": "markdown",
      "source": [
        "## Collections"
      ],
      "metadata": {
        "id": "Ou8nyR1twDFI"
      }
    },
    {
      "cell_type": "markdown",
      "source": [
        "Count the number of occurences in a data structure"
      ],
      "metadata": {
        "id": "n7iDc7C7wSE_"
      }
    },
    {
      "cell_type": "code",
      "source": [
        "people = [\"John\", \"Dave\", \"Martin\", \"Jack\", \"John\", \"Dave\", \"John\", \"Stuart\"]\n",
        "\n",
        "count = {}\n",
        "\n",
        "for i in people:\n",
        "  if i not in count:\n",
        "    count[i] = 1\n",
        "  else:\n",
        "    count[i] += 1\n",
        "\n",
        "maxCount = 0\n",
        "\n",
        "for i in count:\n",
        "  if count[i] > maxCount:\n",
        "    maxCount = count[i]\n",
        "    man = i\n",
        "\n",
        "print(maxCount, man)"
      ],
      "metadata": {
        "colab": {
          "base_uri": "https://localhost:8080/"
        },
        "id": "b985tvIJwInF",
        "outputId": "8901edf4-72e5-4f68-9758-a8a4fb3cdfcc"
      },
      "execution_count": 3,
      "outputs": [
        {
          "output_type": "stream",
          "name": "stdout",
          "text": [
            "3 John\n"
          ]
        }
      ]
    },
    {
      "cell_type": "code",
      "source": [
        "from collections import defaultdict\n",
        "\n",
        "people = [\"John\", \"Dave\", \"Martin\", \"Jack\", \"John\", \"Dave\", \"John\", \"Stuart\"]\n",
        "\n",
        "count = defaultdict(int)\n",
        "\n",
        "for i in people:\n",
        "  count[i] += 1\n",
        "\n",
        "count"
      ],
      "metadata": {
        "colab": {
          "base_uri": "https://localhost:8080/"
        },
        "id": "hXj5Z48tyCct",
        "outputId": "a9239156-c335-42d7-a3d9-22401b21b967"
      },
      "execution_count": 6,
      "outputs": [
        {
          "output_type": "execute_result",
          "data": {
            "text/plain": [
              "defaultdict(int, {'John': 3, 'Dave': 2, 'Martin': 1, 'Jack': 1, 'Stuart': 1})"
            ]
          },
          "metadata": {},
          "execution_count": 6
        }
      ]
    },
    {
      "cell_type": "code",
      "source": [
        "from collections import Counter\n",
        "\n",
        "count = Counter(people) \n",
        "count"
      ],
      "metadata": {
        "colab": {
          "base_uri": "https://localhost:8080/"
        },
        "id": "vybmQh0y0p5Y",
        "outputId": "f5f60c99-b61c-466e-b651-87929ac5c2da"
      },
      "execution_count": 9,
      "outputs": [
        {
          "output_type": "execute_result",
          "data": {
            "text/plain": [
              "Counter({'John': 3, 'Dave': 2, 'Martin': 1, 'Jack': 1, 'Stuart': 1})"
            ]
          },
          "metadata": {},
          "execution_count": 9
        }
      ]
    },
    {
      "cell_type": "code",
      "source": [
        "issubclass(Counter, dict)"
      ],
      "metadata": {
        "colab": {
          "base_uri": "https://localhost:8080/"
        },
        "id": "w7Dp_Iz24gIf",
        "outputId": "308c5f55-7bc1-4e5b-d8cb-ab47202425e9"
      },
      "execution_count": 10,
      "outputs": [
        {
          "output_type": "execute_result",
          "data": {
            "text/plain": [
              "True"
            ]
          },
          "metadata": {},
          "execution_count": 10
        }
      ]
    },
    {
      "cell_type": "code",
      "source": [
        "count.most_common(1)"
      ],
      "metadata": {
        "colab": {
          "base_uri": "https://localhost:8080/"
        },
        "id": "sqXU3_Yy5Fxg",
        "outputId": "8a8434ac-34fb-449a-db28-6aee8e1ed5cb"
      },
      "execution_count": 11,
      "outputs": [
        {
          "output_type": "execute_result",
          "data": {
            "text/plain": [
              "[('John', 3)]"
            ]
          },
          "metadata": {},
          "execution_count": 11
        }
      ]
    },
    {
      "cell_type": "code",
      "source": [
        "count.subtract(['John', 'Dave'])\n",
        "count"
      ],
      "metadata": {
        "colab": {
          "base_uri": "https://localhost:8080/"
        },
        "id": "jGLw009y5JI8",
        "outputId": "468d6d35-e9fb-4030-cd08-eddfc1294afd"
      },
      "execution_count": 13,
      "outputs": [
        {
          "output_type": "execute_result",
          "data": {
            "text/plain": [
              "Counter({'John': 1, 'Dave': 1, 'Martin': 1, 'Jack': 1, 'Stuart': 1})"
            ]
          },
          "metadata": {},
          "execution_count": 13
        }
      ]
    },
    {
      "cell_type": "code",
      "source": [],
      "metadata": {
        "id": "j4CSLii-5V6x"
      },
      "execution_count": null,
      "outputs": []
    }
  ]
}